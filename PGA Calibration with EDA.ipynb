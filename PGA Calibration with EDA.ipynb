{
 "cells": [
  {
   "cell_type": "markdown",
   "id": "47f9f444",
   "metadata": {},
   "source": [
    "# Finding PGA params with EDA"
   ]
  },
  {
   "cell_type": "code",
   "execution_count": 1,
   "id": "bac2a661",
   "metadata": {},
   "outputs": [
    {
     "name": "stdout",
     "output_type": "stream",
     "text": [
      "----2\n",
      "----2\n"
     ]
    },
    {
     "data": {
      "text/plain": [
       "<module 'ssbmeda' from '/home/ubuntu/Documents/github/pga simulation files backup/python files/original_futures_triangle_file_bk/ssbmeda.py'>"
      ]
     },
     "execution_count": 1,
     "metadata": {},
     "output_type": "execute_result"
    }
   ],
   "source": [
    "import multiprocessing\n",
    "from scipy.optimize import differential_evolution\n",
    "import pandas as pd\n",
    "import importlib\n",
    "import string\n",
    "import random\n",
    "import os\n",
    "import numpy as np\n",
    "from numpy import genfromtxt\n",
    "\n",
    "#Module with the implementation of the Estimation of Distribution Algorithm for expensive objective functions\n",
    "import ssbmeda as eda\n",
    "\n",
    "#empirical selection distribution (ESD) functions\n",
    "import empsel as esel\n",
    "\n",
    "#In case we need to display a map\n",
    "from IPython.display import Image\n",
    "\n",
    "#helper functions to initialize GrassGis and connectit with python\n",
    "from helper import initialize_GRASS_notebook\n",
    "\n",
    "\n",
    "\n",
    "#directory structure Example\n",
    "\"\"\"\"\n",
    "Example: Directory Structure to match with grass gis set up \n",
    "(base) ubuntu@cgeoqro:~/grass$ ls\n",
    "futures_triangle_nc\n",
    "(base) ubuntu@cgeoqro:~/grass$ ls\n",
    "futures_triangle_nc\n",
    "(base) ubuntu@cgeoqro:~/grass$ cd futures_triangle_nc/\n",
    "(base) ubuntu@cgeoqro:~/grass/futures_triangle_nc$ ls\n",
    "PERMANENT  jupyter\n",
    "\"\"\"\n",
    "\n",
    "binary = \"grass78\"\n",
    "grassdirectory = \"/home/ubuntu/Documents/grass/\"\n",
    "location = \"futures_triangle_nc\"\n",
    "mapset = \"jupyter\"\n",
    "\n",
    "initialize_GRASS_notebook(binary=\"grass78\",\n",
    "                          grassdata=grassdirectory, location=location,\n",
    "                          mapset=mapset)\n",
    "\n",
    "import grass.script as gs\n",
    "from helper import show_interactively, show\n",
    "from grass.pygrass.modules.shortcuts import raster as r\n",
    "from grass.pygrass.modules import Module\n",
    "\n",
    "import optimizePGA as oPGA\n",
    "importlib.reload(oPGA)\n",
    "importlib.reload(eda)\n"
   ]
  },
  {
   "cell_type": "code",
   "execution_count": 2,
   "id": "10242973",
   "metadata": {},
   "outputs": [
    {
     "name": "stdout",
     "output_type": "stream",
     "text": [
      "#cores: 16\n",
      "tmp/calib_8FLA4Z.csv\n"
     ]
    }
   ],
   "source": [
    "#pga test parameters \n",
    "x  = [0.266430,0.176591,0.97]\n",
    "\n",
    "\n",
    "#detecting cores\n",
    "nc = multiprocessing.cpu_count()\n",
    "print(\"#cores:\", nc)\n",
    "repeat = 10\n",
    "\n",
    "#starting map\n",
    "development_start =  \"urban_2011_37183_nonull@jupyter\"\n",
    "\n",
    "#ending map\n",
    "development_end = \"urban_2016_37183_nonull\"\n",
    "\n",
    "#potential has the multi-level regression parameters in a .csv table computed previously to generate a lans use suitability map\n",
    "potential = 'potential_2011_train_1000.csv'\n",
    "\n",
    "#get important arguments  to evaluate the pga parameters\n",
    "devpressure, predictors = oPGA.getAllPotParamas(potential)\n",
    "regions = \"county_mask_train\"\n",
    "\n",
    "#definition of the cost function\n",
    "def apt(x,minimize = False,nproc = nc, repeat  = repeat):\n",
    "    return oPGA.f3(x,\n",
    "                   development_start,\n",
    "                   development_end,\n",
    "                   potential,\n",
    "                   devpressure, \n",
    "                   predictors, \n",
    "                   regions,True,nproc,repeat\n",
    "                  )\n",
    "#testing an evaluation wit x parameters \n",
    "a = apt(x)\n"
   ]
  },
  {
   "cell_type": "code",
   "execution_count": 6,
   "id": "871689ca",
   "metadata": {},
   "outputs": [
    {
     "data": {
      "text/plain": [
       "1.0"
      ]
     },
     "execution_count": 6,
     "metadata": {},
     "output_type": "execute_result"
    }
   ],
   "source": [
    "a"
   ]
  },
  {
   "cell_type": "code",
   "execution_count": 3,
   "id": "b5506d0e",
   "metadata": {},
   "outputs": [
    {
     "name": "stdout",
     "output_type": "stream",
     "text": [
      "tmp/calib_RHLQLE.csv\n",
      "tmp/calib_CN6U9V.csv\n",
      "tmp/calib_M7BHUC.csv\n",
      "tmp/calib_SWPJNW.csv\n",
      "tmp/calib_AS18ED.csv\n",
      "tmp/calib_DY3UZQ.csv\n",
      "tmp/calib_I6DO5P.csv\n",
      "tmp/calib_2N6K41.csv\n",
      "tmp/calib_X9RL6Y.csv\n",
      "tmp/calib_MP05BA.csv\n",
      "tmp/calib_4IQ43P.csv\n",
      "tmp/calib_0L9Y78.csv\n",
      "tmp/calib_XZZW9C.csv\n",
      "tmp/calib_QDY0FL.csv\n",
      "tmp/calib_T0NNLK.csv\n",
      "tmp/calib_ML6LY5.csv\n",
      "tmp/calib_0QZJFH.csv\n",
      "tmp/calib_FWIO5F.csv\n",
      "tmp/calib_EV6NJH.csv\n",
      "tmp/calib_TKJBAZ.csv\n",
      "tmp/calib_AP3H1A.csv\n",
      "tmp/calib_WI5J0B.csv\n",
      "tmp/calib_KAG4M1.csv\n",
      "tmp/calib_X2H9J6.csv\n",
      "tmp/calib_YDYUTS.csv\n",
      "tmp/calib_DOPQ22.csv\n"
     ]
    }
   ],
   "source": [
    "dim = 3\n",
    "tproblem = apt #Problem\n",
    "fact=4 #Parametro unico que fija los de abajo\n",
    "npop=int(fact*2*dim+2)#Initial population\n",
    "ngen=int(fact*dim/4.0) #int(dim/2) #int(fact*dim) # Number of individuals to be generated each generation\n",
    "narch=int(1*fact*dim+1) #0.5*npop\n",
    "pressure=1.0\n",
    "selection=esel.ebintour\n",
    "nexec = 1\n",
    "allfile=\"executions_11feb2020.dat\"\n",
    "\n",
    "\n",
    "for i in range(nexec):\n",
    "    if i<10:\n",
    "        runfile=\"run0%d.dat\"%i\n",
    "        outfile=\"out0%d.dat\"%i\n",
    "    else:\n",
    "        runfile=\"run%d.dat\"%i\n",
    "        outfile=\"out%d.dat\"%i\n",
    "    xb,fb,neval,resets=eda.EDAEOF(tproblem,\n",
    "                                  dim,\n",
    "                                  npop=npop,\n",
    "                                  ngen=ngen,\n",
    "                                  narch=narch,\n",
    "                                  selection=selection,\n",
    "                                  pressure=pressure,\n",
    "                                  printing=2,\n",
    "                                  maxgen=100000,minVar=1.0e-5,maxEval=5e4,maxFval=-1000000)\n",
    "\n",
    "        \n"
   ]
  },
  {
   "cell_type": "code",
   "execution_count": 16,
   "id": "46f17066",
   "metadata": {},
   "outputs": [
    {
     "data": {
      "text/plain": [
       "array([0.        , 0.07142857, 0.14285714, 0.21428571, 0.28571429,\n",
       "       0.35714286, 0.42857143, 0.5       , 0.57142857, 0.64285714,\n",
       "       0.71428571, 0.78571429, 0.85714286, 0.92857143, 1.        ])"
      ]
     },
     "execution_count": 16,
     "metadata": {},
     "output_type": "execute_result"
    }
   ],
   "source": [
    "np.arange(0,1+1/14,1/14)"
   ]
  },
  {
   "cell_type": "code",
   "execution_count": null,
   "id": "53701c2c",
   "metadata": {},
   "outputs": [],
   "source": []
  }
 ],
 "metadata": {
  "kernelspec": {
   "display_name": "Python 3 (ipykernel)",
   "language": "python",
   "name": "python3"
  },
  "language_info": {
   "codemirror_mode": {
    "name": "ipython",
    "version": 3
   },
   "file_extension": ".py",
   "mimetype": "text/x-python",
   "name": "python",
   "nbconvert_exporter": "python",
   "pygments_lexer": "ipython3",
   "version": "3.7.13"
  },
  "toc": {
   "base_numbering": 1,
   "nav_menu": {},
   "number_sections": false,
   "sideBar": false,
   "skip_h1_title": false,
   "title_cell": "Table of Contents",
   "title_sidebar": "Contents",
   "toc_cell": false,
   "toc_position": {},
   "toc_section_display": false,
   "toc_window_display": false
  }
 },
 "nbformat": 4,
 "nbformat_minor": 5
}
